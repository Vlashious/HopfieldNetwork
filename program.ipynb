{
 "cells": [
  {
   "cell_type": "code",
   "execution_count": 1,
   "metadata": {},
   "source": [
    "#r \"nuget:XPlot.Plotly,3.0.1\"\n",
    "#r \"nuget:MathNet.Numerics,4.12.0\"\n",
    "#r \"nuget:System.Drawing.Common,5.0.0\"\n",
    "using System;\n",
    "using MathNet.Numerics.LinearAlgebra;\n",
    "using System.Linq;\n",
    "using System.IO;\n",
    "using System.Drawing;\n",
    "using System.Drawing.Imaging;\n",
    "using XPlot.Plotly;"
   ],
   "outputs": []
  },
  {
   "cell_type": "code",
   "execution_count": 1,
   "metadata": {},
   "source": [
    "public static void Activate(this Matrix<double> m)\n",
    "{\n",
    "    m.Map(elem => ActivationFunc(elem), m);\n",
    "}\n",
    "\n",
    "public static double ActivationFunc(double x)\n",
    "{\n",
    "    if (x > 0) return 1;\n",
    "    if (x < 0) return -1;\n",
    "    return x;\n",
    "}"
   ],
   "outputs": []
  },
  {
   "cell_type": "code",
   "execution_count": 1,
   "metadata": {},
   "source": [
    "public static void Randomize(this Matrix<double> m)\n",
    "{\n",
    "    var rand = new Random();\n",
    "\n",
    "    for (int i = 0; i < m.RowCount; i++)\n",
    "    {\n",
    "        for (int j = 0; j < m.ColumnCount; j++)\n",
    "        {\n",
    "            m[i, j] = Math.Clamp(m.At(i, j) + rand.Next(-1, 1), -1, 1);\n",
    "        }\n",
    "    }\n",
    "}\n",
    "public static void Randomize(this Matrix<double>[] m)\n",
    "{\n",
    "    var rand = new Random();\n",
    "    foreach (var matrix in m)\n",
    "    {\n",
    "        for (int i = 0; i < matrix.RowCount; i++)\n",
    "        {\n",
    "            for (int j = 0; j < matrix.ColumnCount; j++)\n",
    "            {\n",
    "                var needAbs = rand.NextDouble();\n",
    "                var noise = needAbs >= 0.9 ? Math.Abs(matrix.At(i, j)) : matrix.At(i, j);\n",
    "                matrix[i, j] = noise;\n",
    "            }\n",
    "        }\n",
    "    }\n",
    "}"
   ],
   "outputs": []
  },
  {
   "cell_type": "code",
   "execution_count": 1,
   "metadata": {},
   "source": [
    "public static Bitmap ToImage(this Matrix<double> m, string filePath)\n",
    "{\n",
    "    var size = (int)Math.Sqrt(m.ColumnCount * m.RowCount);\n",
    "    Bitmap image = new Bitmap(size, size);\n",
    "    m = Matrix<double>.Build.DenseOfRowMajor(size, size, m.ToRowMajorArray());\n",
    "\n",
    "    for (int i = 0; i < size; i++)\n",
    "    {\n",
    "        for (int j = 0; j < size; j++)\n",
    "        {\n",
    "            var val = 255 - (int)m.At(i, j) * 255;\n",
    "            val = Math.Clamp(val, 0, 255);\n",
    "            Color col = Color.FromArgb(val, val, val);\n",
    "            image.SetPixel(j, i, col);\n",
    "        }\n",
    "    }\n",
    "    image.Save($\"{filePath}.bmp\", ImageFormat.Bmp);\n",
    "    return image;\n",
    "}\n",
    "\n",
    "public static void ToImage(this Matrix<double>[] m, string filePath)\n",
    "{\n",
    "    var size = (int)Math.Sqrt(m[0].ColumnCount * m[0].RowCount);\n",
    "    var index = 0;\n",
    "\n",
    "    foreach (var matrix in m)\n",
    "    {\n",
    "        Bitmap image = new Bitmap(size, size);\n",
    "        var matrix1 = Matrix<double>.Build.DenseOfRowMajor(size, size, matrix.ToRowMajorArray());\n",
    "        for (int i = 0; i < size; i++)\n",
    "        {\n",
    "            for (int j = 0; j < size; j++)\n",
    "            {\n",
    "                var val = 255 - (int)matrix1.At(i, j) * 255;\n",
    "                val = Math.Clamp(val, 0, 255);\n",
    "                Color col = Color.FromArgb(val, val, val);\n",
    "                image.SetPixel(j, i, col);\n",
    "            }\n",
    "        }\n",
    "        image.Save($\"{filePath}_{index++}.bmp\", ImageFormat.Bmp);\n",
    "    }\n",
    "}"
   ],
   "outputs": []
  },
  {
   "cell_type": "code",
   "execution_count": 1,
   "metadata": {},
   "source": [
    "public static Matrix<double> Join(this Matrix<double>[] matrices)\n",
    "{\n",
    "    var m = matrices[0];\n",
    "    var vecBuilder = Vector<double>.Build;\n",
    "    for (int i = 1; i < matrices.Length; i++)\n",
    "    {\n",
    "        m = m.InsertColumn(m.ColumnCount, vecBuilder.DenseOfArray(matrices[i].ToColumnMajorArray()));\n",
    "    }\n",
    "    return m;\n",
    "}"
   ],
   "outputs": []
  },
  {
   "cell_type": "code",
   "execution_count": 1,
   "metadata": {},
   "source": [
    "public static Matrix<double>[] ReadInput(params string[] inputFiles)\n",
    "{\n",
    "    var matrixBuilder = Matrix<double>.Build;\n",
    "    List<Matrix<double>> matrices = new();\n",
    "\n",
    "    foreach (var filePath in inputFiles)\n",
    "    {\n",
    "        var rawInput = File.ReadAllLines(filePath);\n",
    "        var inputAsNum = rawInput.Select(row => row.Split(\" \").Select(stringNum => double.Parse(stringNum)).ToArray()).ToArray();\n",
    "        var matrix = matrixBuilder.DenseOfRowArrays(inputAsNum);\n",
    "        matrix.ToImage($\"{filePath}\");\n",
    "        matrix = matrixBuilder.Dense(matrix.ColumnCount * matrix.RowCount, 1, matrix.ToRowMajorArray());\n",
    "        matrices.Add(matrix);\n",
    "    }\n",
    "\n",
    "    return matrices.ToArray();\n",
    "}"
   ],
   "outputs": []
  },
  {
   "cell_type": "code",
   "execution_count": 1,
   "metadata": {},
   "source": [
    "public static bool Compare(this Matrix<double> matrix, Matrix<double> other)\n",
    "{\n",
    "    for (int i = 0; i < matrix.RowCount; i++)\n",
    "    {\n",
    "        for (int j = 0; j < matrix.ColumnCount; j++)\n",
    "        {\n",
    "            if (matrix[i, j] != other[i, j])\n",
    "            {\n",
    "                return false;\n",
    "            }\n",
    "        }\n",
    "    }\n",
    "    return true;\n",
    "}"
   ],
   "outputs": []
  },
  {
   "cell_type": "code",
   "execution_count": 1,
   "metadata": {},
   "source": [
    "class Network\n",
    "    {\n",
    "        private Matrix<double> Weights { get; set; }\n",
    "\n",
    "        public Network(Matrix<double> input)\n",
    "        {\n",
    "            var matrixBuilder = Matrix<double>.Build;\n",
    "            Weights = matrixBuilder.Dense(input.RowCount, input.RowCount, 0);\n",
    "\n",
    "            Train(input);\n",
    "        }\n",
    "\n",
    "        public void Train(Matrix<double> input)\n",
    "        {\n",
    "\n",
    "            //Hebbian(input);\n",
    "            //Projections(input);\n",
    "            DeltaProjections(input);\n",
    "\n",
    "            for (int i = 0; i < Weights.RowCount; i++)\n",
    "            {\n",
    "                Weights[i, i] = 0;\n",
    "            }\n",
    "\n",
    "            Console.WriteLine($\"Weight matrix is:\\n{Weights}\");\n",
    "        }\n",
    "\n",
    "        private void Hebbian(Matrix<double> input)\n",
    "        {\n",
    "            for(int i = 0; i < input.ColumnCount; i++)\n",
    "            {\n",
    "                var vec = input.Column(i).ToColumnMatrix();\n",
    "                var deltaMatrix = vec * vec.Transpose();\n",
    "                Weights += deltaMatrix;\n",
    "            }\n",
    "        }\n",
    "\n",
    "        private void Projections(Matrix<double> input)\n",
    "        {\n",
    "            Matrix<double> oldWeights;\n",
    "\n",
    "            // projections method\n",
    "            oldWeights = Weights.Map(f => f);\n",
    "            var t1 = oldWeights * input - input;\n",
    "            var t2 = t1.Transpose();\n",
    "            var coeff = 1f / (input.Transpose() * input - input.Transpose() * oldWeights * input)[0, 0];\n",
    "            Weights += coeff * t1 * t2;\n",
    "        }\n",
    "\n",
    "        private void DeltaProjections(Matrix<double> input)\n",
    "        {\n",
    "            double e = 1E-8;\n",
    "            double change = 0;\n",
    "            double h = 0.8;\n",
    "            double delta = 0;\n",
    "            double previousDelta = 0;\n",
    "            \n",
    "            do\n",
    "            {\n",
    "                delta = 0;\n",
    "                for(int i = 0; i < input.ColumnCount; i++)\n",
    "                {\n",
    "                    var vec = input.Column(i).ToColumnMatrix();\n",
    "                    var deltaW = (vec - Weights * vec) * vec.Transpose() * (h / input.RowCount.Sqrt());\n",
    "                    Weights += deltaW;\n",
    "                    delta = deltaW.RowAbsoluteSums().Sum();\n",
    "                }\n",
    "                change = Math.Abs(previousDelta - delta);\n",
    "                previousDelta = delta;\n",
    "                Console.WriteLine($\"Change is: {change}\");\n",
    "            } while(change > e);\n",
    "        }\n",
    "\n",
    "        public Bitmap Process(Matrix<double> input)\n",
    "        {\n",
    "            bool isDenoised = false;\n",
    "            while (!isDenoised)\n",
    "            {\n",
    "                isDenoised = true;\n",
    "                var row = input.Transpose();\n",
    "                var y = row * Weights;\n",
    "                y.Activate();\n",
    "                input.SetColumn(0, y.ToColumnMajorArray());\n",
    "                isDenoised &= row.Compare(y);\n",
    "                Console.WriteLine($\"Energy is: {GetError(y.Transpose())}\");\n",
    "            }\n",
    "\n",
    "            return input.ToImage(\"denoised\");\n",
    "        }\n",
    "\n",
    "        public Matrix<double> GetError(Matrix<double> input)\n",
    "        {\n",
    "            return - 1.0 / 2 * input.Transpose() * Weights * input;\n",
    "        }\n",
    "    }"
   ],
   "outputs": []
  },
  {
   "cell_type": "code",
   "execution_count": 1,
   "metadata": {},
   "source": [
    "public static double Abs(this double value)\n",
    "{\n",
    "    return Math.Abs(value);\n",
    "}\n",
    "\n",
    "public static double Sqrt(this int value)\n",
    "{\n",
    "    return Math.Sqrt(value);\n",
    "}"
   ],
   "outputs": []
  },
  {
   "cell_type": "code",
   "execution_count": 1,
   "metadata": {},
   "source": [
    "var input = ReadInput(\"1.txt\", \"2.txt\", \"3.txt\", \"4.txt\", \"5.txt\");\n",
    "Network network = new(input.Join());\n",
    "input.Randomize();\n",
    "input.ToImage(\"noise\");\n",
    ""
   ],
   "outputs": [
    {
     "output_type": "execute_result",
     "data": {
      "text/plain": "Weight matrix is:\nDenseMatrix 400x400-Double\n     0  0.0125  0.0075  0.0075  0.0075  0.0125  0.0125  ..  0.0125  0.0125\n0.0125       0  0.0075  0.0075  0.0075  0.0125  0.0125  ..  0.0125  0.0125\n0.0075  0.0075       0  0.0125  0.0125  0.0075  0.0075  ..  0.0075  0.0075\n0.0075  0.0075  0.0125       0  0.0125  0.0075  0.0075  ..  0.0075  0.0075\n0.0075  0.0075  0.0125  0.0125       0  0.0075  0.0075  ..  0.0075  0.0075\n0.0125  0.0125  0.0075  0.0075  0.0075       0  0.0125  ..  0.0125  0.0125\n0.0125  0.0125  0.0075  0.0075  0.0075  0.0125       0  ..  0.0125  0.0125\n0.0125  0.0125  0.0075  0.0075  0.0075  0.0125  0.0125  ..  0.0125  0.0125\n    ..      ..      ..      ..      ..      ..      ..  ..      ..      ..\n0.0125  0.0125  0.0075  0.0075  0.0075  0.0125  0.0125  ..  0.0125  0.0125\n0.0125  0.0125  0.0075  0.0075  0.0075  0.0125  0.0125  ..  0.0125  0.0125\n0.0125  0.0125  0.0075  0.0075  0.0075  0.0125  0.0125  ..       0  0.0125\n0.0125  0.0125  0.0075  0.0075  0.0075  0.0125  0.0125  ..  0.0125       0\n\n"
     },
     "execution_count": 1,
     "metadata": {}
    }
   ]
  },
  {
   "cell_type": "code",
   "execution_count": 1,
   "metadata": {},
   "source": [
    "network.Process(input[3])"
   ],
   "outputs": [
    {
     "output_type": "execute_result",
     "data": {
      "text/plain": "Energy is: DenseMatrix 1x1-Double\n-240.85\n\n"
     },
     "execution_count": 1,
     "metadata": {}
    },
    {
     "output_type": "execute_result",
     "data": {
      "text/plain": "Energy is: DenseMatrix 1x1-Double\n-240.85\n\n"
     },
     "execution_count": 1,
     "metadata": {}
    },
    {
     "output_type": "execute_result",
     "data": {
      "text/html": "<table><thead><tr><th>Tag</th><th>PhysicalDimension</th><th>Size</th><th>Width</th><th>Height</th><th>HorizontalResolution</th><th>VerticalResolution</th><th>Flags</th><th>RawFormat</th><th>PixelFormat</th><th>FrameDimensionsList</th><th>Palette</th><th>PropertyIdList</th><th>PropertyItems</th></tr></thead><tbody><tr><td><div class=\"dni-plaintext\">&lt;null&gt;</div></td><td><div class=\"dni-plaintext\">{Width=20, Height=20}</div></td><td><div class=\"dni-plaintext\">{Width=20, Height=20}</div></td><td><div class=\"dni-plaintext\">20</div></td><td><div class=\"dni-plaintext\">20</div></td><td><div class=\"dni-plaintext\">0</div></td><td><div class=\"dni-plaintext\">0</div></td><td><div class=\"dni-plaintext\">2</div></td><td><div class=\"dni-plaintext\">MemoryBMP</div></td><td><span>Format32bppArgb</span></td><td><div class=\"dni-plaintext\">[ 7462dc86-6180-4c7e-8e3f-ee7333a7a483 ]</div></td><td><div class=\"dni-plaintext\">System.Drawing.Imaging.ColorPalette</div></td><td><div class=\"dni-plaintext\">[  ]</div></td><td><div class=\"dni-plaintext\">[  ]</div></td></tr></tbody></table>"
     },
     "execution_count": 1,
     "metadata": {}
    }
   ]
  },
  {
   "cell_type": "code",
   "execution_count": 1,
   "metadata": {},
   "source": [
    ""
   ],
   "outputs": []
  }
 ],
 "metadata": {
  "kernelspec": {
   "display_name": ".NET (C#)",
   "language": "C#",
   "name": ".net-csharp"
  },
  "language_info": {
   "file_extension": ".cs",
   "mimetype": "text/x-csharp",
   "name": "C#",
   "pygments_lexer": "csharp",
   "version": "8.0"
  }
 },
 "nbformat": 4,
 "nbformat_minor": 4
}